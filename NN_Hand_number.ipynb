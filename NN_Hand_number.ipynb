{
  "nbformat": 4,
  "nbformat_minor": 0,
  "metadata": {
    "colab": {
      "name": "NN_Hand_number.ipynb",
      "version": "0.3.2",
      "provenance": [],
      "collapsed_sections": [],
      "include_colab_link": true
    },
    "kernelspec": {
      "name": "python3",
      "display_name": "Python 3"
    }
  },
  "cells": [
    {
      "cell_type": "markdown",
      "metadata": {
        "id": "view-in-github",
        "colab_type": "text"
      },
      "source": [
        "<a href=\"https://colab.research.google.com/github/Chenhaopoi/Machine-Learning/blob/master/NN_Hand_number.ipynb\" target=\"_parent\"><img src=\"https://colab.research.google.com/assets/colab-badge.svg\" alt=\"Open In Colab\"/></a>"
      ]
    },
    {
      "metadata": {
        "id": "OZROjj9HIU5v",
        "colab_type": "code",
        "outputId": "a87f1e8d-2039-4b47-e22a-b37d3754fa22",
        "colab": {
          "base_uri": "https://localhost:8080/",
          "height": 792
        }
      },
      "cell_type": "code",
      "source": [
        "# The strat of NN\n",
        "# To identfy the Handwritting number\n",
        "from PIL import Image\n",
        "import numpy as np\n",
        "import tensorflow as tf\n",
        "import matplotlib.pyplot as plt\n",
        "def Gray(data):\n",
        "    data = data*255.0\n",
        "    new_im=np.ones((28,28))\n",
        "    new_im=new_im*255.0-data\n",
        "    return new_im\n",
        "handeg=tf.keras.datasets.mnist\n",
        "(x_train,y_train),(x_test,y_test)= handeg.load_data()\n",
        "x_train=x_train/255.0\n",
        "x_test=x_test/255.0\n",
        "model= tf.keras.models.Sequential([\n",
        "    tf.keras.layers.Flatten(input_shape=(28,28)),\n",
        "    tf.keras.layers.Dense(128, activation=tf.nn.relu),\n",
        "    tf.keras.layers.Dense(32, activation=tf.nn.relu),\n",
        "    tf.keras.layers.Dropout(0.3),\n",
        "    tf.keras.layers.Dense(10,activation=tf.nn.softmax)\n",
        "])\n",
        "model.compile(optimizer='SGD',loss='sparse_categorical_crossentropy',metrics=['acc'])\n",
        "history=model.fit(x_train,y_train, epochs=10)\n",
        "plt.plot(history.history['acc'])\n",
        "plt.title('Model accuracy')\n",
        "plt.ylabel('Accuracy')\n",
        "plt.xlabel('Epoch')\n",
        "plt.legend(['Train', 'Test'], loc='upper left')\n",
        "plt.show()\n",
        "print('The test result is :')\n",
        "model.evaluate(x_test,y_test)\n",
        "\n"
      ],
      "execution_count": 76,
      "outputs": [
        {
          "output_type": "stream",
          "text": [
            "Epoch 1/10\n",
            "60000/60000 [==============================] - 17s 285us/sample - loss: 0.8862 - acc: 0.7265\n",
            "Epoch 2/10\n",
            "60000/60000 [==============================] - 15s 244us/sample - loss: 0.4483 - acc: 0.8681\n",
            "Epoch 3/10\n",
            "60000/60000 [==============================] - 16s 273us/sample - loss: 0.3651 - acc: 0.8944\n",
            "Epoch 4/10\n",
            "60000/60000 [==============================] - 16s 259us/sample - loss: 0.3179 - acc: 0.9088\n",
            "Epoch 5/10\n",
            "60000/60000 [==============================] - 16s 259us/sample - loss: 0.2896 - acc: 0.9171\n",
            "Epoch 6/10\n",
            "60000/60000 [==============================] - 14s 238us/sample - loss: 0.2622 - acc: 0.9245\n",
            "Epoch 7/10\n",
            "60000/60000 [==============================] - 17s 277us/sample - loss: 0.2395 - acc: 0.9318\n",
            "Epoch 8/10\n",
            "60000/60000 [==============================] - 16s 259us/sample - loss: 0.2234 - acc: 0.9357\n",
            "Epoch 9/10\n",
            "60000/60000 [==============================] - 17s 286us/sample - loss: 0.2079 - acc: 0.9405\n",
            "Epoch 10/10\n",
            "60000/60000 [==============================] - 16s 268us/sample - loss: 0.1944 - acc: 0.9442\n"
          ],
          "name": "stdout"
        },
        {
          "output_type": "display_data",
          "data": {
            "image/png": "[encoded data removed]",
            "text/plain": [
              "<Figure size 576x396 with 1 Axes>"
            ]
          },
          "metadata": {
            "tags": []
          }
        },
        {
          "output_type": "stream",
          "text": [
            "The test result is :\n",
            "10000/10000 [==============================] - 3s 258us/sample - loss: 0.1368 - acc: 0.9562\n"
          ],
          "name": "stdout"
        },
        {
          "output_type": "execute_result",
          "data": {
            "text/plain": [
              "[0.13677696046531201, 0.9562]"
            ]
          },
          "metadata": {
            "tags": []
          },
          "execution_count": 76
        }
      ]
    },
    {
      "metadata": {
        "id": "eTOv8m__XBR6",
        "colab_type": "code",
        "colab": {
          "base_uri": "https://localhost:8080/",
          "height": 383
        },
        "outputId": "136c39aa-9f24-4983-dadf-1a51e10df0b6"
      },
      "cell_type": "code",
      "source": [
        "import random as rand\n",
        "predictions = model.predict(x_test)\n",
        "label=rand.randint(0, 8000); # randomly test \n",
        "print(' The test image :')\n",
        "im_predict=Gray(x_test[label])\n",
        "plt.imshow(im_predict, cmap=plt.cm.gray, interpolation='nearest') # convert matrix into image \n",
        "maxprb=0.0;\n",
        "num=0;\n",
        "plt.show();\n",
        "for i in range (10):\n",
        "  if predictions[label,i]>maxprb:\n",
        "    maxprb=predictions[label,i]\n",
        "    num=i;\n",
        "print(' This number probably is',num);\n",
        "\n",
        "   \n",
        "    \n",
        "\n",
        "\n"
      ],
      "execution_count": 83,
      "outputs": [
        {
          "output_type": "stream",
          "text": [
            " The test image :\n"
          ],
          "name": "stdout"
        },
        {
          "output_type": "display_data",
          "data": {
            "image/png": "[encoded data removed]",
            "text/plain": [
              "<Figure size 576x396 with 1 Axes>"
            ]
          },
          "metadata": {
            "tags": []
          }
        },
        {
          "output_type": "stream",
          "text": [
            " This number probably is 3\n"
          ],
          "name": "stdout"
        }
      ]
    }
  ]
}
