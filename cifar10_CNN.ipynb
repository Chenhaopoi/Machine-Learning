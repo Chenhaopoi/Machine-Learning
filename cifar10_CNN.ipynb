{
  "nbformat": 4,
  "nbformat_minor": 0,
  "metadata": {
    "colab": {
      "name": "cifar10-CNN.ipynb",
      "version": "0.3.2",
      "provenance": [],
      "collapsed_sections": [],
      "include_colab_link": true
    },
    "kernelspec": {
      "name": "python3",
      "display_name": "Python 3"
    }
  },
  "cells": [
    {
      "cell_type": "markdown",
      "metadata": {
        "id": "view-in-github",
        "colab_type": "text"
      },
      "source": [
        "<a href=\"https://colab.research.google.com/github/Chenhaopoi/Machine-Learning/blob/master/cifar10_CNN.ipynb\" target=\"_parent\"><img src=\"https://colab.research.google.com/assets/colab-badge.svg\" alt=\"Open In Colab\"/></a>"
      ]
    },
    {
      "metadata": {
        "id": "S2pQ2AWTAmHy",
        "colab_type": "code",
        "outputId": "ca790d41-dec7-4eb8-aee7-b431f9204198",
        "colab": {
          "base_uri": "https://localhost:8080/",
          "height": 988
        }
      },
      "cell_type": "code",
      "source": [
        "# Using 5-layer CNN\n",
        "import tensorflow as tf\n",
        "import matplotlib.pyplot as plt\n",
        "cifar10=tf.keras.datasets.cifar10\n",
        "(x_train,y_train),(x_test,y_test)= cifar10.load_data()\n",
        "x_train=x_train/255.0\n",
        "x_test=x_test/255.0\n",
        "model= tf.keras.models.Sequential([\n",
        "    tf.keras.layers.Conv2D(filters=64,input_shape=(32,32,3),kernel_size=3,activation=tf.nn.relu,strides=(1, 1)),\n",
        "    tf.keras.layers.MaxPooling2D(pool_size=(2, 2), strides=(2, 2)),\n",
        "    tf.keras.layers.Conv2D(filters=64,kernel_size=5,activation=tf.nn.relu),\n",
        "    tf.keras.layers.MaxPooling2D(pool_size=(2, 2)),\n",
        "    tf.keras.layers.Flatten(),\n",
        "    tf.keras.layers.Dropout(0.1),\n",
        "    tf.keras.layers.Dense(1000, activation=tf.nn.relu),\n",
        "    tf.keras.layers.Dropout(0.1),\n",
        "    tf.keras.layers.Dense(10,activation=tf.nn.softmax)\n",
        "])\n",
        "model.compile(optimizer='adam',loss='sparse_categorical_crossentropy',metrics=['acc'])   \n",
        "history=model.fit(x_train,y_train, epochs=12)\n",
        "plt.plot(history.history['acc'])\n",
        "plt.title('Model accuracy')\n",
        "plt.ylabel('Accuracy')\n",
        "plt.xlabel('Epoch')\n",
        "plt.legend(['Train', 'Test'], loc='upper left')\n",
        "plt.show()\n",
        "model.evaluate(x_test,y_test)"
      ],
      "execution_count": 1,
      "outputs": [
        {
          "output_type": "stream",
          "text": [
            "Downloading data from https://www.cs.toronto.edu/~kriz/cifar-10-python.tar.gz\n",
            "170500096/170498071 [==============================] - 39s 0us/step\n",
            "WARNING:tensorflow:From /usr/local/lib/python3.6/dist-packages/tensorflow/python/ops/resource_variable_ops.py:435: colocate_with (from tensorflow.python.framework.ops) is deprecated and will be removed in a future version.\n",
            "Instructions for updating:\n",
            "Colocations handled automatically by placer.\n",
            "WARNING:tensorflow:From /usr/local/lib/python3.6/dist-packages/tensorflow/python/keras/layers/core.py:143: calling dropout (from tensorflow.python.ops.nn_ops) with keep_prob is deprecated and will be removed in a future version.\n",
            "Instructions for updating:\n",
            "Please use `rate` instead of `keep_prob`. Rate should be set to `rate = 1 - keep_prob`.\n",
            "Epoch 1/12\n",
            "50000/50000 [==============================] - 238s 5ms/sample - loss: 1.4727 - acc: 0.4657\n",
            "Epoch 2/12\n",
            "50000/50000 [==============================] - 237s 5ms/sample - loss: 1.1319 - acc: 0.5999\n",
            "Epoch 3/12\n",
            "50000/50000 [==============================] - 235s 5ms/sample - loss: 0.9782 - acc: 0.6551\n",
            "Epoch 4/12\n",
            "50000/50000 [==============================] - 236s 5ms/sample - loss: 0.8635 - acc: 0.6952\n",
            "Epoch 5/12\n",
            "50000/50000 [==============================] - 236s 5ms/sample - loss: 0.7682 - acc: 0.7300\n",
            "Epoch 6/12\n",
            "50000/50000 [==============================] - 237s 5ms/sample - loss: 0.6849 - acc: 0.7589\n",
            "Epoch 7/12\n",
            "50000/50000 [==============================] - 235s 5ms/sample - loss: 0.6115 - acc: 0.7859\n",
            "Epoch 8/12\n",
            "50000/50000 [==============================] - 234s 5ms/sample - loss: 0.5366 - acc: 0.8114\n",
            "Epoch 9/12\n",
            "50000/50000 [==============================] - 234s 5ms/sample - loss: 0.4751 - acc: 0.8322\n",
            "Epoch 10/12\n",
            "50000/50000 [==============================] - 232s 5ms/sample - loss: 0.4211 - acc: 0.8504\n",
            "Epoch 11/12\n",
            "50000/50000 [==============================] - 235s 5ms/sample - loss: 0.3697 - acc: 0.8698\n",
            "Epoch 12/12\n",
            "50000/50000 [==============================] - 236s 5ms/sample - loss: 0.3374 - acc: 0.8805\n"
          ],
          "name": "stdout"
        },
        {
          "output_type": "display_data",
          "data": {
            "image/png": "[encoded data removed]",
            "text/plain": [
              "<Figure size 576x396 with 1 Axes>"
            ]
          },
          "metadata": {
            "tags": []
          }
        },
        {
          "output_type": "stream",
          "text": [
            "10000/10000 [==============================] - 13s 1ms/sample - loss: 1.0706 - acc: 0.7155\n"
          ],
          "name": "stdout"
        },
        {
          "output_type": "execute_result",
          "data": {
            "text/plain": [
              "[1.0705842500686646, 0.7155]"
            ]
          },
          "metadata": {
            "tags": []
          },
          "execution_count": 1
        }
      ]
    }
  ]
}